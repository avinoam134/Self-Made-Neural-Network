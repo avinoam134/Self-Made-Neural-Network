{
 "cells": [
  {
   "cell_type": "code",
   "execution_count": 1,
   "metadata": {},
   "outputs": [
    {
     "name": "stderr",
     "output_type": "stream",
     "text": [
      "/tmp/ipykernel_147198/2080034654.py:2: DeprecationWarning: \n",
      "Pyarrow will become a required dependency of pandas in the next major release of pandas (pandas 3.0),\n",
      "(to allow more performant data types, such as the Arrow string type, and better interoperability with other libraries)\n",
      "but was not found to be installed on your system.\n",
      "If this would cause problems for you,\n",
      "please provide us feedback at https://github.com/pandas-dev/pandas/issues/54466\n",
      "        \n",
      "  import pandas as pd\n"
     ]
    }
   ],
   "source": [
    "import numpy as np\n",
    "import pandas as pd\n",
    "import matplotlib.pyplot as plt"
   ]
  },
  {
   "cell_type": "code",
   "execution_count": 1,
   "metadata": {},
   "outputs": [
    {
     "name": "stderr",
     "output_type": "stream",
     "text": [
      "/home/adavid/.local/lib/python3.10/site-packages/tqdm/auto.py:21: TqdmWarning: IProgress not found. Please update jupyter and ipywidgets. See https://ipywidgets.readthedocs.io/en/stable/user_install.html\n",
      "  from .autonotebook import tqdm as notebook_tqdm\n"
     ]
    }
   ],
   "source": [
    "import torch\n",
    "import torchvision\n",
    "import torchvision.transforms as transforms"
   ]
  },
  {
   "cell_type": "code",
   "execution_count": 2,
   "metadata": {},
   "outputs": [],
   "source": [
    "def linear_function ( X, W, b):\n",
    "    np.dot(X.T, W) + b.reshape(1,-1)"
   ]
  },
  {
   "cell_type": "code",
   "execution_count": 3,
   "metadata": {},
   "outputs": [],
   "source": [
    "def softmax(X):\n",
    "    #normalize X:\n",
    "    max_col = np.max(X, axis=1).reshape(-1,1)\n",
    "    linear_norm = X - max_col\n",
    "    #compute the softmax function:\n",
    "    linear_norm_exp = np.exp(linear_norm)\n",
    "    softmax = linear_norm_exp / np.sum(linear_norm_exp, axis=1).reshape(-1,1)\n",
    "    return softmax\n"
   ]
  },
  {
   "cell_type": "code",
   "execution_count": 4,
   "metadata": {},
   "outputs": [],
   "source": [
    "def softmax_regression_loss(X, Y, W, b):\n",
    "    \"\"\"\n",
    "    Compute the loss function for soft-max regression.\n",
    "\n",
    "    Parameters:\n",
    "    - X: Input data matrix of shape (num_features, num_samples)\n",
    "    - Y: True labels matrix of shape (num_classes, num_samples)\n",
    "    - W: Weight matrix of shape (num_features, num_classes)\n",
    "    - b: Bias vector of shape (num_classes,)\n",
    "\n",
    "    Returns:\n",
    "    - loss: Scalar value representing the loss\n",
    "    \"\"\"\n",
    "    num_samples = X.shape[1]\n",
    "\n",
    "    softmax = softmax(linear_function(X, W, b))\n",
    "\n",
    "    log_softmax = np.log(softmax)\n",
    "    #replace loss_unnorm with a vector with each entry being the inner multiplication of each column of Y with the corresponding column of log_softmax:\n",
    "    loss_unnorm = Y*log_softmax.T\n",
    "    loss = -np.sum(np.sum(loss_unnorm, axis=0)) / num_samples\n",
    "\n",
    "    #compute gradients:\n",
    "    dsoftmax = softmax - Y.T\n",
    "    dw = np.dot(X, dsoftmax) / num_samples\n",
    "    db = np.sum(dsoftmax, axis=0) / num_samples\n",
    "\n",
    "    #gradient w.t.r to X:\n",
    "    dx = np.dot(W, softmax.T - Y) / num_samples\n",
    "\n",
    "    return loss, dw, db, dx\n",
    "\n",
    "\n",
    "    \n",
    "\n",
    "\n"
   ]
  },
  {
   "cell_type": "markdown",
   "metadata": {},
   "source": [
    "Questions for omri:\n",
    "\n",
    "1. my SGD keeps improving which makes me think there is no actual Minimum and something's wrong\n",
    "2. h"
   ]
  },
  {
   "cell_type": "code",
   "execution_count": null,
   "metadata": {},
   "outputs": [],
   "source": [
    "def do_nothing():\n",
    "    print(\"do nothing\")"
   ]
  }
 ],
 "metadata": {
  "kernelspec": {
   "display_name": "Python 3",
   "language": "python",
   "name": "python3"
  },
  "language_info": {
   "codemirror_mode": {
    "name": "ipython",
    "version": 3
   },
   "file_extension": ".py",
   "mimetype": "text/x-python",
   "name": "python",
   "nbconvert_exporter": "python",
   "pygments_lexer": "ipython3",
   "version": "3.10.12"
  }
 },
 "nbformat": 4,
 "nbformat_minor": 2
}
