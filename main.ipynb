{
 "cells": [
  {
   "cell_type": "markdown",
   "metadata": {},
   "source": [
    "The following script is made to design a Neural Network from scratch (without any libraries)"
   ]
  },
  {
   "cell_type": "markdown",
   "metadata": {},
   "source": [
    "necessary imports..."
   ]
  },
  {
   "cell_type": "code",
   "execution_count": 4,
   "metadata": {},
   "outputs": [
    {
     "name": "stderr",
     "output_type": "stream",
     "text": [
      "C:\\Users\\avino\\AppData\\Local\\Temp\\ipykernel_1956\\3663747576.py:2: DeprecationWarning: \n",
      "Pyarrow will become a required dependency of pandas in the next major release of pandas (pandas 3.0),\n",
      "(to allow more performant data types, such as the Arrow string type, and better interoperability with other libraries)\n",
      "but was not found to be installed on your system.\n",
      "If this would cause problems for you,\n",
      "please provide us feedback at https://github.com/pandas-dev/pandas/issues/54466\n",
      "        \n",
      "  import pandas as pd\n"
     ]
    }
   ],
   "source": [
    "import numpy as np\n",
    "import pandas as pd\n",
    "import matplotlib.pyplot as plt\n",
    "from scipy.io import loadmat"
   ]
  },
  {
   "cell_type": "markdown",
   "metadata": {},
   "source": [
    "*P1.1*\n",
    "\n",
    "1.\n",
    "2.\n",
    "3.\n",
    "\n"
   ]
  },
  {
   "cell_type": "markdown",
   "metadata": {},
   "source": [
    "\n",
    "1. Softmax-Regression loss and gradients calculation\n",
    "\n",
    "    Parameters:\n",
    "    - X: Input data matrix of shape (num_features, num_samples)\n",
    "    - Y: True labels matrix of shape (num_classes, num_samples)\n",
    "    - W: Weight matrix of shape (num_features, num_classes)\n",
    "    - b: Bias vector of shape (num_classes,)\n",
    "\n",
    "    Returns:\n",
    "    - loss: Scalar value representing the loss\n",
    "    - dw: Gradient of the loss with respect to W\n",
    "    - db: Gradient of the loss with respect to b\n",
    "    - dx: Gradient of the loss with respect to X\n"
   ]
  },
  {
   "cell_type": "code",
   "execution_count": 2,
   "metadata": {},
   "outputs": [],
   "source": [
    "def softmax(X):  \n",
    "    #calculate the value of the linear multiplication with normalization:\n",
    "    max_col = np.max(X, axis=1).reshape(-1,1)\n",
    "    norm = X - max_col\n",
    "    #compute the softmax function:\n",
    "    norm_exp = np.exp(norm)\n",
    "    softmax = norm_exp / np.sum(norm_exp, axis=1).reshape(-1,1)\n",
    "    return softmax\n"
   ]
  },
  {
   "cell_type": "code",
   "execution_count": 3,
   "metadata": {},
   "outputs": [],
   "source": [
    "def softmax_regression_loss(X, Y, W, b):\n",
    "\n",
    "    num_samples = X.shape[1]\n",
    "\n",
    "    #calculate the value of the linear multiplication with normalization:\n",
    "    linear_calc = np.dot(X.T, W) + b.reshape(1,-1)\n",
    "    _softmax = softmax(linear_calc)\n",
    "    \n",
    "    #compute loss:\n",
    "    log_softmax = np.log(_softmax)\n",
    "    #replace loss_unnorm with a vector with each entry being the inner multiplication of each column of Y with the corresponding column of log_softmax:\n",
    "    loss_unnorm = Y*log_softmax.T\n",
    "    loss = -np.sum(np.sum(loss_unnorm, axis=1)) / num_samples\n",
    "\n",
    "    #compute gradients:\n",
    "    dsoftmax = _softmax - Y.T\n",
    "    dw = np.dot(X, dsoftmax) / num_samples\n",
    "    db = np.sum(dsoftmax) / num_samples\n",
    "    \n",
    "\n",
    "    #gradient w.t.r to X:\n",
    "    dx = np.dot(W, _softmax.T - Y) / num_samples\n",
    "\n",
    "\n",
    "    return loss, dw, db, dx\n"
   ]
  },
  {
   "cell_type": "markdown",
   "metadata": {},
   "source": [
    "2. Jacobian (or Gradient) Verification.\n",
    "**let gpt implement**\n",
    "    "
   ]
  },
  {
   "cell_type": "code",
   "execution_count": 4,
   "metadata": {},
   "outputs": [],
   "source": [
    "def jacobian_verification(X,W,Y,b, epsilons, loss_function):\n",
    "    \n",
    "    num_features = X.shape[0]\n",
    "    num_samples = X.shape[1]\n",
    "    d = np.random.rand(num_features, num_samples)\n",
    "\n",
    "    losses_ord1 = []\n",
    "    losses_ord2 = []\n",
    "        \n",
    "    for epsilon in epsilons:\n",
    "        eps_d = epsilon*d\n",
    "        X_plus = X.copy() + eps_d\n",
    "\n",
    "        #first order:\n",
    "        loss_plus, _, _, _ = loss_function(X_plus, Y, W, b)\n",
    "        loss, _,_, dx = loss_function(X, Y, W, b)\n",
    "        loss_ord1 = loss_plus - loss\n",
    "        loss_ord1_abs = np.abs(loss_ord1)\n",
    "        #second order:\n",
    "        loss_ord2 = loss_ord1 - np.sum(np.multiply(eps_d, dx))\n",
    "        loss_ord2_abs = np.abs(loss_ord2)\n",
    "\n",
    "        losses_ord1.append(loss_ord1_abs)\n",
    "        losses_ord2.append(loss_ord2_abs)\n",
    "    \n",
    "    return losses_ord1, losses_ord2\n",
    "     \n"
   ]
  },
  {
   "cell_type": "code",
   "execution_count": 5,
   "metadata": {},
   "outputs": [],
   "source": [
    "def jacobian_verification_visualizer(losses_ord1, losses_ord2, epsilons):\n",
    "    epsilons = np.sort(epsilons)\n",
    "    plt.plot(epsilons, losses_ord1, label='First Order - O(\\u03B5)')\n",
    "    plt.plot(epsilons, losses_ord2, label='Second Order - O(\\u03B5^2)')\n",
    "    plt.xscale('log')\n",
    "    plt.yscale('log')\n",
    "    plt.xlabel('Epsilon')\n",
    "    plt.ylabel('Loss')\n",
    "    plt.title('Gradient Verification - Log Scale')\n",
    "    plt.legend()\n",
    "    plt.show()"
   ]
  },
  {
   "cell_type": "markdown",
   "metadata": {},
   "source": [
    "3. Randomise input and show correctness of p1 w.r.t p2"
   ]
  },
  {
   "cell_type": "code",
   "execution_count": 6,
   "metadata": {},
   "outputs": [
    {
     "data": {
      "image/png": "[encoded data removed]",
      "text/plain": [
       "<Figure size 640x480 with 1 Axes>"
      ]
     },
     "metadata": {},
     "output_type": "display_data"
    }
   ],
   "source": [
    "# Generate random X, Y, W, b, epsilons, d matching the dimensions in the above function signature:\n",
    "num_features = 5\n",
    "num_classes = 3\n",
    "num_samples = 10\n",
    "X = np.random.rand(num_features, num_samples)\n",
    "W = np.random.rand(num_features, num_classes)\n",
    "b = np.random.rand(num_classes,1)\n",
    "#set Y to a random matrix with 1s in the correct class and 0s elsewhere:\n",
    "Y = np.zeros((num_classes, num_samples))\n",
    "for i in range(num_samples):\n",
    "    Y[np.random.randint(0, num_classes), i] = 1\n",
    "# create a decending array of epsilon values:\n",
    "epsilons = np.array([(0.5)**i for i in range(1, 10)])\n",
    "loss_function = softmax_regression_loss\n",
    "\n",
    "losses_ord1, losses_ord2 = jacobian_verification(X , W, Y, b, epsilons, loss_function)\n",
    "jacobian_verification_visualizer(losses_ord1, losses_ord2, epsilons)\n",
    "\n"
   ]
  },
  {
   "cell_type": "markdown",
   "metadata": {},
   "source": [
    "*P1.2*:\n",
    "1. SGD\n",
    "2.\n",
    ".\n",
    ".\n",
    ".\n"
   ]
  },
  {
   "cell_type": "markdown",
   "metadata": {},
   "source": [
    "1. Implement SGD\n",
    "- let gpt complete Input/Out desc"
   ]
  },
  {
   "cell_type": "code",
   "execution_count": 7,
   "metadata": {},
   "outputs": [],
   "source": [
    "def sgd(X, Y, W, b, loss_function,  alpha = 0.1, num_iterations = 10000):\n",
    "\n",
    "    losses = []\n",
    "    for i in range(num_iterations):\n",
    "        loss, dw, db, _ = loss_function(X, Y, W, b)\n",
    "        losses.append(loss)\n",
    "        W -= alpha*dw\n",
    "        b -= alpha*db\n",
    "    return W, b, losses"
   ]
  },
  {
   "cell_type": "markdown",
   "metadata": {},
   "source": [
    "2. Create a 1D least-squares example to test SGD implementation:\n",
    "- GPT..."
   ]
  },
  {
   "cell_type": "code",
   "execution_count": 8,
   "metadata": {},
   "outputs": [],
   "source": [
    "def least_squares_loss(A, b, x, _):\n",
    "    num_samples = A.shape[0]\n",
    "    loss = np.sum(np.square(x*A - b)) / num_samples\n",
    "    dx = 2 * np.dot(A.T, x*A - b) / num_samples\n",
    "    return loss, dx, 0, 0"
   ]
  },
  {
   "cell_type": "code",
   "execution_count": 9,
   "metadata": {},
   "outputs": [
    {
     "data": {
      "image/png": "[encoded data removed]",
      "text/plain": [
       "<Figure size 1000x400 with 2 Axes>"
      ]
     },
     "metadata": {},
     "output_type": "display_data"
    }
   ],
   "source": [
    "#create data A, b s.t the appropriate functions will make y=2x (for example):\n",
    "A = np.random.rand(100, 1)\n",
    "b = 2*A\n",
    "#initialize x to a different factor than 2:\n",
    "x = float(10)\n",
    "#perform sgd and plot the initialised x and the final x:\n",
    "alpha = 0.1\n",
    "num_iterations = 100\n",
    "loss_function = least_squares_loss\n",
    "x_final, _, losses = sgd(A, b, x, 0, loss_function, alpha, num_iterations)\n",
    "#add a fig for the loss and a fig for comparing the initial x to the final x on top of the data:\n",
    "fig, axs = plt.subplots(1, 2, figsize=(10, 4))\n",
    "\n",
    "axs[0].scatter(A, b, label='Data')\n",
    "axs[0].plot(A, x*A, label='Initial x')\n",
    "axs[0].plot(A, x_final*A, label='Final x')\n",
    "axs[0].set_xlabel('A')\n",
    "axs[0].set_ylabel('b')\n",
    "axs[0].set_title('Linear Regression')\n",
    "axs[0].legend()\n",
    "\n",
    "axs[1].plot(losses)\n",
    "axs[1].set_xlabel('Iteration')\n",
    "axs[1].set_ylabel('Loss')\n",
    "axs[1].set_title('Least Squares Loss')\n",
    "\n",
    "plt.tight_layout()\n",
    "plt.show()\n"
   ]
  },
  {
   "cell_type": "markdown",
   "metadata": {},
   "source": [
    "P1.3: do something else. Elaborate on trial and error leading to:\n",
    "- add momentum to SGD improves performance\n",
    "- local minimum doesnt cut it. need to run it over many iterations.\n",
    "- around 50 outer iterations finds the same minimum as more than that\n",
    "- increasing the batch sizes above around 10% of the data (~2000) has virtualy no effect. A batch of 1% (~200) does the job pretty good though much faster \n",
    "- around 500 inner iterations shows pretty much same results as more than that\n",
    " "
   ]
  },
  {
   "cell_type": "code",
   "execution_count": 10,
   "metadata": {},
   "outputs": [],
   "source": [
    "def get_batch(X, Y, batch_size):\n",
    "    num_samples = X.shape[1]\n",
    "    batch_indices = np.random.choice(num_samples, batch_size, replace=False)\n",
    "    X_batch = X[:, batch_indices]\n",
    "    Y_batch = Y[:, batch_indices]\n",
    "    return X_batch, Y_batch"
   ]
  },
  {
   "cell_type": "code",
   "execution_count": 11,
   "metadata": {},
   "outputs": [],
   "source": [
    "def batch_sgd(X, Y, W, b, loss_function, alpha=0.1, num_iterations=10000, batch_size=100):\n",
    "    losses = []\n",
    "    for i in range(num_iterations):\n",
    "        X_batch, Y_batch = get_batch(X, Y, batch_size)\n",
    "        loss, dw, db, _ = loss_function(X_batch, Y_batch, W, b)\n",
    "        losses.append(loss)\n",
    "        W -= alpha*dw\n",
    "        b -= alpha*db\n",
    "    return W, b, losses"
   ]
  },
  {
   "cell_type": "code",
   "execution_count": 12,
   "metadata": {},
   "outputs": [],
   "source": [
    "def batch_sgd_with_momentum(X, Y, W, b, loss_function, alpha=0.1, num_iterations=10000, batch_size=100, beta=0.9):\n",
    "    losses = []\n",
    "    v_w = 0\n",
    "    v_b = 0\n",
    "    for i in range(num_iterations):\n",
    "        X_batch, Y_batch = get_batch(X, Y, batch_size)\n",
    "        loss, dw, db, _ = loss_function(X_batch, Y_batch, W, b)\n",
    "        losses.append(loss)\n",
    "        v_w = beta*v_w + (1-beta)*dw\n",
    "        v_b = beta*v_b + (1-beta)*db\n",
    "        W -= alpha*v_w\n",
    "        b -= alpha*v_b\n",
    "    return W, b, losses"
   ]
  },
  {
   "cell_type": "code",
   "execution_count": 13,
   "metadata": {},
   "outputs": [],
   "source": [
    "def batch_sgd_with_momentum_and_test_loss(Xt, Yt, Xv, Yv, W, b, loss_function, alpha=0.1, num_iterations=10000, batch_size=100, test_size=20, beta=0.9):\n",
    "    losses = []\n",
    "    test_losses = []\n",
    "    v_w = 0\n",
    "    v_b = 0\n",
    "    for i in range(num_iterations):\n",
    "        X_batch, Y_batch = get_batch(Xt, Yt, batch_size)\n",
    "        loss, dw, db, _ = loss_function(X_batch, Y_batch, W, b)\n",
    "        losses.append(loss)\n",
    "        v_w = beta*v_w + (1-beta)*dw\n",
    "        v_b = beta*v_b + (1-beta)*db\n",
    "        W -= alpha*v_w\n",
    "        b -= alpha*v_b\n",
    "        X_test, Y_test = get_batch(Xv, Yv, test_size)\n",
    "        test_loss, _, _, _ = loss_function(X_test, Y_test, W, b)\n",
    "        test_losses.append(test_loss)\n",
    "    return W, b, losses, test_losses"
   ]
  },
  {
   "cell_type": "code",
   "execution_count": 14,
   "metadata": {},
   "outputs": [],
   "source": [
    "def batch_sgd_with_test_set_loss (Xt, Yt, Xv, Yv, W, b, loss_function, alpha=0.1, num_iterations=10000, batch_size=100, test_size=20):\n",
    "    losses = []\n",
    "    test_losses = []\n",
    "    for i in range(num_iterations):\n",
    "        X_batch, Y_batch = get_batch(Xt, Yt, batch_size)\n",
    "        loss, dw, db, _ = loss_function(X_batch, Y_batch, W, b)\n",
    "        losses.append(loss)\n",
    "        W -= alpha*dw\n",
    "        b -= alpha*db\n",
    "        X_test, Y_test = get_batch(Xv, Yv, test_size)\n",
    "        test_loss, _, _, _ = loss_function(X_test, Y_test, W, b)\n",
    "        test_losses.append(test_loss)\n",
    "    return W, b, losses, test_losses"
   ]
  },
  {
   "cell_type": "code",
   "execution_count": 2,
   "metadata": {},
   "outputs": [],
   "source": [
    "def parse_data(filename):\n",
    "    path = f\"./HW1_Data/{filename}.mat\"\n",
    "    data = loadmat(path)\n",
    "    Yt = data['Yt']\n",
    "    Ct = data['Ct']\n",
    "    Yv = data['Yv']\n",
    "    Cv = data['Cv']\n",
    "    return Yt, Ct, Yv, Cv"
   ]
  },
  {
   "cell_type": "code",
   "execution_count": 16,
   "metadata": {},
   "outputs": [],
   "source": [
    "def rand_weights(num_features, num_classes):\n",
    "    W = np.random.rand(num_features, num_classes)\n",
    "    b = np.random.rand(num_classes, 1)\n",
    "    return W, b"
   ]
  },
  {
   "cell_type": "code",
   "execution_count": 17,
   "metadata": {},
   "outputs": [],
   "source": [
    "def sgd_find_global_minimum(Xt, Yt, Xv, Yv, loss_function, alpha=0.1, num_iterations=30, batch_size=100, test_size=20):\n",
    "    num_features = Xt.shape[0]\n",
    "    num_classes = Yt.shape[0]\n",
    "    final_losses_matrix = []\n",
    "    final_test_losses_matrix = []\n",
    "    best_loss = np.inf\n",
    "    W = None\n",
    "    b = None\n",
    "    for i in range(num_iterations):\n",
    "        rand_W, rand_b = rand_weights(num_features, num_classes)\n",
    "        rand_W, rand_b, losses, test_losses = batch_sgd_with_momentum_and_test_loss(Xt, Yt, Xv, Yv, rand_W, rand_b, loss_function, alpha, 1000, batch_size, test_size)\n",
    "        if test_losses[-1] < best_loss:\n",
    "            best_loss = test_losses[-1]\n",
    "            W = rand_W\n",
    "            b = rand_b\n",
    "        final_losses_matrix.append(losses)\n",
    "        final_test_losses_matrix.append(test_losses)\n",
    "\n",
    "    final_losses_matrix = np.array(final_losses_matrix)\n",
    "    final_test_losses_matrix = np.array(final_test_losses_matrix)\n",
    "    final_losses = np.min(final_losses_matrix, axis=0)\n",
    "    final_test_losses = np.min(final_test_losses_matrix, axis=0)\n",
    "    return W,b,final_losses, final_test_losses\n",
    "\n"
   ]
  },
  {
   "cell_type": "code",
   "execution_count": 6,
   "metadata": {},
   "outputs": [
    {
     "data": {
      "text/plain": [
       "((2, 20000), (2, 20000), (2, 5000), (2, 5000))"
      ]
     },
     "execution_count": 6,
     "metadata": {},
     "output_type": "execute_result"
    }
   ],
   "source": [
    "Yt, Ct, Yv, Cv = parse_data('SwissRollData')\n",
    "Yt.shape, Ct.shape, Yv.shape, Cv.shape"
   ]
  },
  {
   "cell_type": "code",
   "execution_count": 19,
   "metadata": {},
   "outputs": [
    {
     "ename": "KeyboardInterrupt",
     "evalue": "",
     "output_type": "error",
     "traceback": [
      "\u001b[1;31m---------------------------------------------------------------------------\u001b[0m",
      "\u001b[1;31mKeyboardInterrupt\u001b[0m                         Traceback (most recent call last)",
      "Cell \u001b[1;32mIn[19], line 14\u001b[0m\n\u001b[0;32m     12\u001b[0m loss_function \u001b[38;5;241m=\u001b[39m softmax_regression_loss\n\u001b[0;32m     13\u001b[0m \u001b[38;5;28;01mfor\u001b[39;00m i \u001b[38;5;129;01min\u001b[39;00m \u001b[38;5;28mrange\u001b[39m(\u001b[38;5;241m1\u001b[39m):\n\u001b[1;32m---> 14\u001b[0m     W_final, b_final, losses, test_losses \u001b[38;5;241m=\u001b[39m \u001b[43msgd_find_global_minimum\u001b[49m\u001b[43m(\u001b[49m\u001b[43mYt\u001b[49m\u001b[43m,\u001b[49m\u001b[43m \u001b[49m\u001b[43mCt\u001b[49m\u001b[43m,\u001b[49m\u001b[43m \u001b[49m\u001b[43mYv\u001b[49m\u001b[43m,\u001b[49m\u001b[43m \u001b[49m\u001b[43mCv\u001b[49m\u001b[43m,\u001b[49m\u001b[43m \u001b[49m\u001b[43mloss_function\u001b[49m\u001b[43m,\u001b[49m\u001b[43m \u001b[49m\u001b[43malpha\u001b[49m\u001b[43m,\u001b[49m\u001b[43m \u001b[49m\u001b[43mnum_iterations\u001b[49m\u001b[43m,\u001b[49m\u001b[43m \u001b[49m\u001b[43mbatch_size\u001b[49m\u001b[43m[\u001b[49m\u001b[43mi\u001b[49m\u001b[43m]\u001b[49m\u001b[43m,\u001b[49m\u001b[43m \u001b[49m\u001b[43mtest_size\u001b[49m\u001b[43m)\u001b[49m\n\u001b[0;32m     15\u001b[0m     \u001b[38;5;66;03m#plot the train and test losses:\u001b[39;00m\n\u001b[0;32m     16\u001b[0m     plt\u001b[38;5;241m.\u001b[39mplot(losses, label\u001b[38;5;241m=\u001b[39m\u001b[38;5;124mf\u001b[39m\u001b[38;5;124m'\u001b[39m\u001b[38;5;124mTrain Loss - Batch Size: \u001b[39m\u001b[38;5;132;01m{\u001b[39;00mbatch_size[i]\u001b[38;5;132;01m}\u001b[39;00m\u001b[38;5;124m'\u001b[39m)\n",
      "Cell \u001b[1;32mIn[17], line 11\u001b[0m, in \u001b[0;36msgd_find_global_minimum\u001b[1;34m(Xt, Yt, Xv, Yv, loss_function, alpha, num_iterations, batch_size, test_size)\u001b[0m\n\u001b[0;32m      9\u001b[0m \u001b[38;5;28;01mfor\u001b[39;00m i \u001b[38;5;129;01min\u001b[39;00m \u001b[38;5;28mrange\u001b[39m(num_iterations):\n\u001b[0;32m     10\u001b[0m     rand_W, rand_b \u001b[38;5;241m=\u001b[39m rand_weights(num_features, num_classes)\n\u001b[1;32m---> 11\u001b[0m     rand_W, rand_b, losses, test_losses \u001b[38;5;241m=\u001b[39m \u001b[43mbatch_sgd_with_momentum_and_test_loss\u001b[49m\u001b[43m(\u001b[49m\u001b[43mXt\u001b[49m\u001b[43m,\u001b[49m\u001b[43m \u001b[49m\u001b[43mYt\u001b[49m\u001b[43m,\u001b[49m\u001b[43m \u001b[49m\u001b[43mXv\u001b[49m\u001b[43m,\u001b[49m\u001b[43m \u001b[49m\u001b[43mYv\u001b[49m\u001b[43m,\u001b[49m\u001b[43m \u001b[49m\u001b[43mrand_W\u001b[49m\u001b[43m,\u001b[49m\u001b[43m \u001b[49m\u001b[43mrand_b\u001b[49m\u001b[43m,\u001b[49m\u001b[43m \u001b[49m\u001b[43mloss_function\u001b[49m\u001b[43m,\u001b[49m\u001b[43m \u001b[49m\u001b[43malpha\u001b[49m\u001b[43m,\u001b[49m\u001b[43m \u001b[49m\u001b[38;5;241;43m1000\u001b[39;49m\u001b[43m,\u001b[49m\u001b[43m \u001b[49m\u001b[43mbatch_size\u001b[49m\u001b[43m,\u001b[49m\u001b[43m \u001b[49m\u001b[43mtest_size\u001b[49m\u001b[43m)\u001b[49m\n\u001b[0;32m     12\u001b[0m     \u001b[38;5;28;01mif\u001b[39;00m test_losses[\u001b[38;5;241m-\u001b[39m\u001b[38;5;241m1\u001b[39m] \u001b[38;5;241m<\u001b[39m best_loss:\n\u001b[0;32m     13\u001b[0m         best_loss \u001b[38;5;241m=\u001b[39m test_losses[\u001b[38;5;241m-\u001b[39m\u001b[38;5;241m1\u001b[39m]\n",
      "Cell \u001b[1;32mIn[13], line 8\u001b[0m, in \u001b[0;36mbatch_sgd_with_momentum_and_test_loss\u001b[1;34m(Xt, Yt, Xv, Yv, W, b, loss_function, alpha, num_iterations, batch_size, test_size, beta)\u001b[0m\n\u001b[0;32m      6\u001b[0m \u001b[38;5;28;01mfor\u001b[39;00m i \u001b[38;5;129;01min\u001b[39;00m \u001b[38;5;28mrange\u001b[39m(num_iterations):\n\u001b[0;32m      7\u001b[0m     X_batch, Y_batch \u001b[38;5;241m=\u001b[39m get_batch(Xt, Yt, batch_size)\n\u001b[1;32m----> 8\u001b[0m     loss, dw, db, _ \u001b[38;5;241m=\u001b[39m \u001b[43mloss_function\u001b[49m\u001b[43m(\u001b[49m\u001b[43mX_batch\u001b[49m\u001b[43m,\u001b[49m\u001b[43m \u001b[49m\u001b[43mY_batch\u001b[49m\u001b[43m,\u001b[49m\u001b[43m \u001b[49m\u001b[43mW\u001b[49m\u001b[43m,\u001b[49m\u001b[43m \u001b[49m\u001b[43mb\u001b[49m\u001b[43m)\u001b[49m\n\u001b[0;32m      9\u001b[0m     losses\u001b[38;5;241m.\u001b[39mappend(loss)\n\u001b[0;32m     10\u001b[0m     v_w \u001b[38;5;241m=\u001b[39m beta\u001b[38;5;241m*\u001b[39mv_w \u001b[38;5;241m+\u001b[39m (\u001b[38;5;241m1\u001b[39m\u001b[38;5;241m-\u001b[39mbeta)\u001b[38;5;241m*\u001b[39mdw\n",
      "Cell \u001b[1;32mIn[3], line 1\u001b[0m, in \u001b[0;36msoftmax_regression_loss\u001b[1;34m(X, Y, W, b)\u001b[0m\n\u001b[1;32m----> 1\u001b[0m \u001b[38;5;28;01mdef\u001b[39;00m \u001b[38;5;21msoftmax_regression_loss\u001b[39m(X, Y, W, b):\n\u001b[0;32m      3\u001b[0m     num_samples \u001b[38;5;241m=\u001b[39m X\u001b[38;5;241m.\u001b[39mshape[\u001b[38;5;241m1\u001b[39m]\n\u001b[0;32m      5\u001b[0m     \u001b[38;5;66;03m#calculate the value of the linear multiplication with normalization:\u001b[39;00m\n",
      "\u001b[1;31mKeyboardInterrupt\u001b[0m: "
     ]
    }
   ],
   "source": [
    "num_samples = Yt.shape[1]\n",
    "num_features = Yt.shape[0]\n",
    "num_classes = Ct.shape[0]\n",
    "#initialize W and b:\n",
    "W = np.random.rand(num_features, num_classes)\n",
    "b = np.random.rand(num_classes, 1)\n",
    "#perform batch sgd:\n",
    "alpha = 0.1\n",
    "num_iterations = 50\n",
    "batch_size = 200\n",
    "test_size = 5000\n",
    "loss_function = softmax_regression_loss\n",
    "W_final, b_final, losses, test_losses = sgd_find_global_minimum(Yt, Ct, Yv, Cv, loss_function, alpha, num_iterations, batch_size, test_size)\n",
    "accuracy = np.mean(np.argmax(softmax_calculate(np.dot(Yv.T, W_final) + b.T), axis=1) == np.argmax(Cv.T, axis=1))\n",
    "plt.plot(losses, label=f'Train Loss')\n",
    "plt.plot(test_losses, label=f'Test Loss')\n",
    "plt.xlabel('Iteration')\n",
    "plt.ylabel('Loss')\n",
    "plt.title(f'Train & Test Losses. Model Accuracy: {accuracy:.2f}')\n",
    "plt.legend()\n",
    "plt.show()\n",
    "\n",
    "\n"
   ]
  },
  {
   "cell_type": "markdown",
   "metadata": {},
   "source": [
    "P3:\n",
    "1. define tanh activation\n",
    "2. define forward and back prop on a given network. recieve a vector of \"layers\" each containing W and b's and it's activation and use SGD to compute each one:\n",
    "Li = (W,B,act_func)\n",
    "\n",
    "\n",
    "\n",
    "3. "
   ]
  },
  {
   "cell_type": "markdown",
   "metadata": {},
   "source": []
  },
  {
   "cell_type": "code",
   "execution_count": null,
   "metadata": {},
   "outputs": [],
   "source": [
    "class Activation:\n",
    "    def __init__(self, activation_function, activation_derivative):\n",
    "        self.calc = activation_function\n",
    "        self.der = activation_derivative"
   ]
  },
  {
   "cell_type": "code",
   "execution_count": null,
   "metadata": {},
   "outputs": [],
   "source": [
    "class Layer:\n",
    "    def __init__(self, input_dim, output_dim, activation):\n",
    "        self.W = np.random.rand(output_dim, input_dim)\n",
    "        self.b = np.random.rand(output_dim,1)\n",
    "        self.activation = activation\n",
    "        self.input = None\n",
    "        self.output = None\n",
    "        self.dW = None\n",
    "        self.db = None\n",
    "        self.dX = None\n",
    "\n",
    "    def forward(self, X):\n",
    "        self.input = X\n",
    "        self.linear_calc = np.dot(self.W, self.input) + self.b\n",
    "        self.output = self.activation.calc(self.linear_calc)\n",
    "        return self.output\n",
    "\n",
    "    def backward(self, dY):\n",
    "        self.db = dY * self.activation.der(self.linear_calc)\n",
    "        self.dW = np.dot(self.db, self.input.T)\n",
    "        self.dX = np.dot(self.W.T, self.db)\n",
    "        return self.dX\n",
    "\n",
    "    def update(self, alpha):\n",
    "        self.W -= alpha*self.dW\n",
    "        self.b -= alpha*self.db\n"
   ]
  },
  {
   "cell_type": "code",
   "execution_count": null,
   "metadata": {},
   "outputs": [],
   "source": [
    "def softmax_loss_and_dx(Y, X):\n",
    "    _softmax = nn_softmax(X)\n",
    "    #print (f'softmax: {_softmax}')\n",
    "    num_samples = Y.shape[1]\n",
    "    # compute loss:\n",
    "    log_softmax = np.log(_softmax)\n",
    "    # replace loss_unnorm with a vector with each entry being the inner multiplication of each column of Y with the corresponding column of log_softmax:\n",
    "    loss_unnorm = Y * log_softmax.T\n",
    "    loss = -np.sum(loss_unnorm) / num_samples\n",
    "    # compute gradient w.r.t to X:\n",
    "    dX = _softmax - Y\n",
    "    return loss, dX\n",
    "    \n",
    "    \n",
    "class NeuralNetwork:\n",
    "    def __init__(self, layers):\n",
    "        self.layers = layers\n",
    "        self.loss_function = softmax_loss_and_dx\n",
    "\n",
    "    def forward(self, X):\n",
    "        for layer in self.layers:\n",
    "            X = layer.forward(X)\n",
    "        return X\n",
    "\n",
    "    def backward(self, dY):\n",
    "        for layer in reversed(self.layers):\n",
    "            dY = layer.backward(dY)\n",
    "\n",
    "    def update(self, alpha):\n",
    "        for layer in self.layers:\n",
    "            layer.update(alpha)\n",
    "    \n",
    "    def get_network_loss_and_dx(self, X, Y):\n",
    "        output = self.forward(X)\n",
    "        loss, dY = self.loss_function(Y, output)\n",
    "        self.backward(dY)\n",
    "        dX = self.layers[0].dX\n",
    "        return loss, dX\n",
    "    \n",
    "    def grad_verify(self):\n",
    "        X = np.random.rand(self.layers[0].W .shape[1], 1)\n",
    "        Y = np.zeros((self.layers[-1].W.shape[0], 1))\n",
    "        Y[np.random.randint(0, Y.shape[0])] = 1\n",
    "        #print (f'Y: {Y}')\n",
    "        epsilons = np.array([(0.5)**i for i in range(1, 10)])\n",
    "        d = np.random.rand(X.shape[0], X.shape[1])\n",
    "        losses_ord1 = []\n",
    "        losses_ord2 = []\n",
    "        epsd_grads = []\n",
    "        for epsilon in epsilons:\n",
    "            eps_d = epsilon*d\n",
    "            X_plus = X.copy() + eps_d\n",
    "            loss_plus, _ = self.get_network_loss_and_dx(X_plus, Y)\n",
    "            loss, dx = self.get_network_loss_and_dx(X, Y)\n",
    "            #first order:\n",
    "            loss_ord1 = loss_plus - loss\n",
    "            loss_ord1_abs = np.abs(loss_ord1)\n",
    "            #second order:\n",
    "            epsd_grad = np.dot(eps_d.T, dx).reshape(-1)\n",
    "            loss_ord2 = loss_ord1 - epsd_grad\n",
    "            loss_ord2_abs = np.abs(loss_ord2)\n",
    "            losses_ord1.append(loss_ord1_abs)\n",
    "            losses_ord2.append(loss_ord2_abs)\n",
    "            epsd_grads.append(epsd_grad)\n",
    "        return epsilons, losses_ord1, losses_ord2, epsd_grads\n",
    "    \n",
    "    def grad_visualizer(self):\n",
    "        epsilons, losses_ord1, losses_ord2, eps_grad = self.grad_verify()\n",
    "        epsilons_sorted = np.sort(epsilons)\n",
    "        plt.plot(epsilons_sorted, eps_grad, label='epsd - O(\\u03B5)')\n",
    "        plt.plot(epsilons_sorted, losses_ord1, label='First Order - O(\\u03B5)')\n",
    "        plt.plot(epsilons_sorted, losses_ord2, label='Second Order - O(\\u03B5^2)')\n",
    "        plt.xscale('log')\n",
    "        plt.yscale('log')\n",
    "        plt.xlabel('Epsilon')\n",
    "        plt.ylabel('Loss')\n",
    "        plt.title('Gradient Verification - Log Scale')\n",
    "        plt.legend()\n",
    "        plt.show()\n",
    "\n",
    "    def sgd(self, X, Y, alpha=0.1, num_iterations=10000):\n",
    "        losses = []\n",
    "        for i in range(num_iterations):\n",
    "            output = self.forward(X)\n",
    "            loss, dY = self.loss_function(Y, output)\n",
    "            self.backward(dY)\n",
    "            self.update(alpha)\n",
    "            losses.append(loss)\n",
    "        return losses"
   ]
  },
  {
   "cell_type": "markdown",
   "metadata": {},
   "source": [
    "1. figure out what to do with the last layer (first one of backprop): how to compute loss, dY\n",
    "2. re-define the Jacobian-test if necessary"
   ]
  },
  {
   "cell_type": "code",
   "execution_count": null,
   "metadata": {},
   "outputs": [],
   "source": [
    "def tanh_activation(X):\n",
    "    return np.tanh(X)\n",
    "def tanh_derivative(X):\n",
    "    return 1 - np.tanh(X)**2\n",
    "\n",
    "tanh_activation = Activation(tanh_activation, tanh_derivative)"
   ]
  },
  {
   "cell_type": "code",
   "execution_count": null,
   "metadata": {},
   "outputs": [],
   "source": [
    "# initialize a network for grad verification:\n",
    "input_dim = 3\n",
    "output_dim = 5\n",
    "layer1 = Layer(input_dim, output_dim, tanh_activation)\n",
    "network = NeuralNetwork([layer1])\n",
    "network.grad_visualizer()"
   ]
  },
  {
   "cell_type": "code",
   "execution_count": null,
   "metadata": {},
   "outputs": [],
   "source": []
  },
  {
   "cell_type": "code",
   "execution_count": null,
   "metadata": {},
   "outputs": [],
   "source": []
  }
 ],
 "metadata": {
  "kernelspec": {
   "display_name": "Python 3",
   "language": "python",
   "name": "python3"
  },
  "language_info": {
   "codemirror_mode": {
    "name": "ipython",
    "version": 3
   },
   "file_extension": ".py",
   "mimetype": "text/x-python",
   "name": "python",
   "nbconvert_exporter": "python",
   "pygments_lexer": "ipython3",
   "version": "3.11.5"
  }
 },
 "nbformat": 4,
 "nbformat_minor": 2
}
