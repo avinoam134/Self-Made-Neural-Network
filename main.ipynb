{
 "cells": [
  {
   "cell_type": "markdown",
   "metadata": {},
   "source": [
    "The following script is made to design a Neural Network from scratch (without any libraries)"
   ]
  },
  {
   "cell_type": "markdown",
   "metadata": {},
   "source": [
    "necessary imports..."
   ]
  },
  {
   "cell_type": "code",
   "execution_count": 1,
   "metadata": {},
   "outputs": [
    {
     "name": "stderr",
     "output_type": "stream",
     "text": [
      "/tmp/ipykernel_5956/3853983104.py:2: DeprecationWarning: \n",
      "Pyarrow will become a required dependency of pandas in the next major release of pandas (pandas 3.0),\n",
      "(to allow more performant data types, such as the Arrow string type, and better interoperability with other libraries)\n",
      "but was not found to be installed on your system.\n",
      "If this would cause problems for you,\n",
      "please provide us feedback at https://github.com/pandas-dev/pandas/issues/54466\n",
      "        \n",
      "  import pandas as pd\n",
      "/home/adavid/.local/lib/python3.10/site-packages/tqdm/auto.py:21: TqdmWarning: IProgress not found. Please update jupyter and ipywidgets. See https://ipywidgets.readthedocs.io/en/stable/user_install.html\n",
      "  from .autonotebook import tqdm as notebook_tqdm\n"
     ]
    }
   ],
   "source": [
    "import numpy as np\n",
    "import pandas as pd\n",
    "import matplotlib.pyplot as plt\n",
    "from scipy.io import loadmat\n",
    "%run not_main.ipynb"
   ]
  },
  {
   "cell_type": "markdown",
   "metadata": {},
   "source": [
    "Q1.1: Compute loss and gradient w.t.r W,b"
   ]
  },
  {
   "cell_type": "code",
   "execution_count": 97,
   "metadata": {},
   "outputs": [],
   "source": [
    "def softmax_regression_loss(X, Y, W, b):\n",
    "    \"\"\"\n",
    "    Compute the loss function for soft-max regression.\n",
    "\n",
    "    Parameters:\n",
    "    - X: Input data matrix of shape (num_features, num_samples)\n",
    "    - Y: True labels matrix of shape (num_classes, num_samples)\n",
    "    - W: Weight matrix of shape (num_features, num_classes)\n",
    "    - b: Bias vector of shape (num_classes,)\n",
    "\n",
    "    Returns:\n",
    "    - loss: Scalar value representing the loss\n",
    "    - dw: Gradient of the loss with respect to W\n",
    "    - db: Gradient of the loss with respect to b\n",
    "    - dx: Gradient of the loss with respect to X\n",
    "    \"\"\"\n",
    "    num_samples = X.shape[1]\n",
    "    num_features = X.shape[0]\n",
    "    num_classes = Y.shape[0]\n",
    "\n",
    "    #calculate the value of the linear multiplication with normalization:\n",
    "    linear_calc = np.dot(X.T, W) + b.reshape(1,-1)\n",
    "    max_col = np.max(linear_calc, axis=1).reshape(-1,1)\n",
    "    linear_norm = linear_calc - max_col\n",
    "    #compute the softmax function:\n",
    "    linear_norm_exp = np.exp(linear_norm)\n",
    "    softmax = linear_norm_exp / np.sum(linear_norm_exp, axis=1).reshape(-1,1)\n",
    "\n",
    "    #compute loss:\n",
    "    log_softmax = np.log(softmax)\n",
    "    #replace loss_unnorm with a vector with each entry being the inner multiplication of each column of Y with the corresponding column of log_softmax:\n",
    "    loss_unnorm = Y*log_softmax.T\n",
    "    loss = -np.sum(np.sum(loss_unnorm, axis=0)) / num_samples\n",
    "\n",
    "    #compute gradients:\n",
    "    dsoftmax = softmax - Y.T\n",
    "    dw = np.dot(X, dsoftmax) / num_samples\n",
    "    db = np.sum(dsoftmax, axis=0) / num_samples\n",
    "\n",
    "    #gradient w.t.r to X:\n",
    "    dx = np.dot(W, softmax.T - Y) / num_samples\n",
    "\n",
    "\n",
    "    return loss, dw, db, dx\n",
    "\n",
    "\n",
    "    \n",
    "\n",
    "\n"
   ]
  },
  {
   "cell_type": "markdown",
   "metadata": {},
   "source": [
    "Q1.1: test the func above with Jacobian and Gradient test"
   ]
  },
  {
   "cell_type": "code",
   "execution_count": 98,
   "metadata": {},
   "outputs": [],
   "source": [
    "def softmax_regression_loss_verification(X,W,Y,b,d,epsilons):\n",
    "\n",
    "    losses_ord1 = []\n",
    "    losses_ord2 = []\n",
    "    for epsilon in epsilons:\n",
    "        \n",
    "        # increment W by epsilon:\n",
    "        eps_d = np.array(epsilon*d)\n",
    "        X_plus = X.copy() + eps_d\n",
    "        loss_plus, _, _, _ = softmax_regression_loss(X_plus, Y, W, b)\n",
    "        loss, _,_, dx = softmax_regression_loss(X, Y, W, b)\n",
    "        loss_ord1 = loss_plus - loss\n",
    "        loss_ord2 = loss_ord1 - np.sum(np.multiply(eps_d, dx))\n",
    "        loss_ord1_abs = np.abs(loss_ord1)\n",
    "        loss_ord2_abs = np.abs(loss_ord2)\n",
    "        losses_ord1.append(loss_ord1_abs)\n",
    "        losses_ord2.append(loss_ord2_abs)\n",
    "\n",
    "    #plot the results:\n",
    "    plt.plot(epsilons, losses_ord1, label='First Order - O(\\u03B5)')\n",
    "    plt.plot(epsilons, losses_ord2, label='Second Order - O(\\u03B5^2)')\n",
    "    plt.xscale('log')\n",
    "    plt.yscale('log')\n",
    "    plt.xlabel('Epsilon')\n",
    "    plt.ylabel('Loss')\n",
    "    plt.title('Gradient Verification - Log Scale')\n",
    "    plt.legend()\n",
    "    plt.show()\n",
    "    \n",
    "\n",
    "    \n"
   ]
  },
  {
   "cell_type": "code",
   "execution_count": 99,
   "metadata": {},
   "outputs": [],
   "source": [
    "def generate_random_parameters_for_test(): \n",
    "    # Generate random X, Y, W, b, epsilons, d matching the dimensions in the above function signature:\n",
    "    num_features = 5\n",
    "    num_classes = 3\n",
    "    num_samples = 10\n",
    "    X = np.random.rand(num_features, num_samples)\n",
    "    W = np.random.rand(num_features, num_classes)\n",
    "    b = np.random.rand(num_classes,1)\n",
    "    #set Y to a random matrix with 1s in the correct class and 0s elsewhere:\n",
    "    Y = np.zeros((num_classes, num_samples))\n",
    "    for i in range(num_samples):\n",
    "        Y[np.random.randint(0, num_classes), i] = 1\n",
    "    # create a decending array of epsilon values:\n",
    "    epsilons = np.array([(0.5)**i for i in range(1, 10)])\n",
    "    # create random vector d that should hold ||d|| = O(1):\n",
    "    d = np.random.rand(num_features, num_samples)\n",
    "    return X,W,Y,b,d,epsilons"
   ]
  },
  {
   "cell_type": "code",
   "execution_count": 100,
   "metadata": {},
   "outputs": [
    {
     "data": {
      "image/png": "[encoded data removed]",
      "text/plain": [
       "<Figure size 640x480 with 1 Axes>"
      ]
     },
     "metadata": {},
     "output_type": "display_data"
    }
   ],
   "source": [
    "softmax_regression_loss_verification(*generate_random_parameters_for_test())"
   ]
  },
  {
   "cell_type": "code",
   "execution_count": 91,
   "metadata": {},
   "outputs": [],
   "source": [
    "def sgd(X, W, Y, b, alpha = 0.1, num_iterations = 10000):\n",
    "\n",
    "    losses = []\n",
    "    for i in range(num_iterations):\n",
    "        loss, dw, db, _ = softmax_regression_loss(X, Y, W, b)\n",
    "        print (f\"SGD iteration: {i}. Loss = {loss}\")\n",
    "        losses.append(loss)\n",
    "        W -= alpha*dw\n",
    "        b -= alpha*db.reshape(-1,1)\n",
    "    return W, b, losses"
   ]
  },
  {
   "cell_type": "code",
   "execution_count": null,
   "metadata": {},
   "outputs": [],
   "source": [
    "X,W,Y,b,_,_ = generate_random_parameters_for_test()\n",
    "X,b,loss = sgd(X,W,Y,b, num_iterations=100000)"
   ]
  },
  {
   "cell_type": "code",
   "execution_count": 5,
   "metadata": {},
   "outputs": [
    {
     "ename": "NameError",
     "evalue": "name 'not_main' is not defined",
     "output_type": "error",
     "traceback": [
      "\u001b[0;31m---------------------------------------------------------------------------\u001b[0m",
      "\u001b[0;31mNameError\u001b[0m                                 Traceback (most recent call last)",
      "Cell \u001b[0;32mIn[5], line 1\u001b[0m\n\u001b[0;32m----> 1\u001b[0m \u001b[43mnot_main\u001b[49m\u001b[38;5;241m.\u001b[39mdo_nothing()\n",
      "\u001b[0;31mNameError\u001b[0m: name 'not_main' is not defined"
     ]
    }
   ],
   "source": [
    "not_main.do_nothing()"
   ]
  },
  {
   "cell_type": "code",
   "execution_count": null,
   "metadata": {},
   "outputs": [],
   "source": []
  }
 ],
 "metadata": {
  "kernelspec": {
   "display_name": "Python 3",
   "language": "python",
   "name": "python3"
  },
  "language_info": {
   "codemirror_mode": {
    "name": "ipython",
    "version": 3
   },
   "file_extension": ".py",
   "mimetype": "text/x-python",
   "name": "python",
   "nbconvert_exporter": "python",
   "pygments_lexer": "ipython3",
   "version": "3.10.12"
  }
 },
 "nbformat": 4,
 "nbformat_minor": 2
}
